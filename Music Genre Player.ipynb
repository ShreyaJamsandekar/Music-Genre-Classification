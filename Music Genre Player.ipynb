{
 "cells": [
  {
   "cell_type": "code",
   "execution_count": 1,
   "metadata": {},
   "outputs": [],
   "source": [
    "from tkinter import * \n",
    "#import tkinter as tk"
   ]
  },
  {
   "cell_type": "code",
   "execution_count": 2,
   "metadata": {},
   "outputs": [
    {
     "name": "stdout",
     "output_type": "stream",
     "text": [
      "pygame 2.0.1 (SDL 2.0.14, Python 3.7.6)\n",
      "Hello from the pygame community. https://www.pygame.org/contribute.html\n"
     ]
    }
   ],
   "source": [
    "import pygame\n",
    "from pygame import mixer"
   ]
  },
  {
   "cell_type": "code",
   "execution_count": 3,
   "metadata": {},
   "outputs": [],
   "source": [
    "import numpy as np\n",
    "import pandas as pd\n",
    "import scipy.io.wavfile as wav\n",
    "from python_speech_features import mfcc\n",
    "from tempfile import TemporaryFile\n",
    "import os\n",
    "import math\n",
    "import pickle\n",
    "import random\n",
    "import operator"
   ]
  },
  {
   "cell_type": "code",
   "execution_count": 4,
   "metadata": {},
   "outputs": [],
   "source": [
    "def playsong(self):#, b=None):\n",
    "    #if b is None:\n",
    "    #    b = self.a\n",
    "    # Displaying Selected Song title\n",
    "    self.track.set(self.playlist.get(ACTIVE))\n",
    "    # Displaying Status\n",
    "    self.status.set(\"-Playing\")\n",
    "    # Loading Selected Song\n",
    "    pygame.mixer.music.load(self.playlist.get(ACTIVE))\n",
    "    # Playing Selected Song\n",
    "    pygame.mixer.music.play()\n",
    "def stopsong(self):\n",
    "    # Displaying Status\n",
    "    self.status.set(\"-Stopped\")\n",
    "    # Stopped Song\n",
    "    pygame.mixer.music.stop()\n",
    "def pausesong(self):\n",
    "    # Displaying Status\n",
    "    self.status.set(\"-Paused\")\n",
    "    # Paused Song\n",
    "    pygame.mixer.music.pause()\n",
    "def unpausesong(self):\n",
    "    # It will Display the  Status\n",
    "    self.status.set(\"-Playing\")\n",
    "    # Playing back Song\n",
    "    pygame.mixer.music.unpause()\n",
    "def play_music():    \n",
    "    #mixer.music.load(\"D:\\Shreya\\songs\\Rise.mp3\")\n",
    "    mixer.music.play()\n",
    "def pause_music():\n",
    "    #mixer.music.load(\"D:\\Shreya\\songs\\Rise.mp3\")\n",
    "    mixer.music.pause()"
   ]
  },
  {
   "cell_type": "code",
   "execution_count": 5,
   "metadata": {},
   "outputs": [],
   "source": [
    "def distance(instance1, instance2, k):\n",
    "    distance = 0\n",
    "    mm1 = instance1[0]\n",
    "    cm1 = instance1[1]\n",
    "    mm2 = instance2[0]\n",
    "    cm2 = instance2[1]\n",
    "    distance = np.trace(np.dot(np.linalg.inv(cm2), cm1))\n",
    "    distance += (np.dot(np.dot((mm2-mm1).transpose(), np.linalg.inv(cm2)), mm2-mm1))\n",
    "    distance += np.log(np.linalg.det(cm2)) - np.log(np.linalg.det(cm1))\n",
    "    distance -= k\n",
    "    return distance\n",
    "\n",
    "\n",
    "#define a function to get distance between feature vectors and find neighbors\n",
    "def getNeighbors(trainingset, instance, k):\n",
    "    distances = []\n",
    "    for x in range(len(trainingset)):\n",
    "        dist = distance(trainingset[x], instance, k) + distance(instance,trainingset[x],k)\n",
    "        distances.append((trainingset[x][2], dist))\n",
    "    distances.sort(key=operator.itemgetter(1))\n",
    "    neighbors = []\n",
    "    for x in range(k):\n",
    "        neighbors.append(distances[x][0])\n",
    "    return neighbors\n",
    "\n",
    "#function to identify the nearest neighbors\n",
    "def nearestclass(neighbors):\n",
    "    classVote = {}\n",
    "    \n",
    "    for x in range(len(neighbors)):\n",
    "        response = neighbors[x]\n",
    "        if response in classVote:\n",
    "            classVote[response] += 1\n",
    "        else:\n",
    "            classVote[response] = 1\n",
    "            \n",
    "    sorter = sorted(classVote.items(), key=operator.itemgetter(1), reverse=True)\n",
    "    return sorter[0][0]\n",
    "\n",
    "# define a function that will evaluate a model\n",
    "def getAccuracy(testSet, prediction):\n",
    "    correct = 0\n",
    "    for x in range(len(testSet)):\n",
    "        if testSet[x][-1] == prediction[x]:\n",
    "            correct += 1\n",
    "    return 1.0 * correct / len(testSet)"
   ]
  },
  {
   "cell_type": "code",
   "execution_count": 13,
   "metadata": {},
   "outputs": [],
   "source": [
    "class MusicPlayer(object):\n",
    "    def __init__(self,root):\n",
    "    #def __init__(self):\n",
    "        self.root = root\n",
    "        # Title of the window\n",
    "        self.root.title(\"MusicPlayer\")\n",
    "        # Window Geometry\n",
    "        self.root.geometry(\"1000x200+200+200\")\n",
    "        # Initiating Pygame\n",
    "        pygame.init()\n",
    "        # Initiating Pygame Mixer\n",
    "        pygame.mixer.init()\n",
    "        # Declaring track Variable\n",
    "        self.track = StringVar()\n",
    "        # Declaring Status Variable\n",
    "        self.status = StringVar()\n",
    "\n",
    "        # Creating the Track Frames for Song label & status label\n",
    "        trackframe = LabelFrame(self.root,text=\"Song Track\",font=(\"times new roman\",15,\"bold\"),bg=\"Navyblue\",fg=\"white\",bd=5,relief=GROOVE)\n",
    "        trackframe.place(x=0,y=0,width=600,height=100)\n",
    "        # Inserting Song Track Label\n",
    "        songtrack = Label(trackframe,textvariable=self.track,width=20,font=(\"times new roman\",24,\"bold\"),bg=\"Orange\",fg=\"gold\").grid(row=0,column=0,padx=10,pady=5)\n",
    "        # Inserting Status Label\n",
    "        trackstatus = Label(trackframe,textvariable=self.status,font=(\"times new roman\",24,\"bold\"),bg=\"orange\",fg=\"gold\").grid(row=0,column=1,padx=10,pady=5)\n",
    "\n",
    "        # Creating Button Frame\n",
    "        buttonframe = LabelFrame(self.root,text=\"Control Panel\",font=(\"times new roman\",15,\"bold\"),bg=\"grey\",fg=\"white\",bd=5,relief=GROOVE)\n",
    "        buttonframe.place(x=0,y=100,width=600,height=100)\n",
    "        \n",
    "        # Inserting Play Button\n",
    "        playbtn = Button(buttonframe,text=\"PLAYSONG\",command=play_music,width=10,height=1,font=(\"times new roman\",16,\"bold\"),fg=\"navyblue\",bg=\"pink\").grid(row=0,column=0,padx=10,pady=5)\n",
    "        \n",
    "        # Inserting Pause Button\n",
    "        pausebtn = Button(buttonframe,text=\"PAUSE\",command=pause_music,width=8,height=1,font=(\"times new roman\",16,\"bold\"),fg=\"navyblue\",bg=\"pink\").grid(row=0,column=1,padx=10,pady=5)\n",
    "        # Inserting Unpause Button\n",
    "        unpausebtn = Button(buttonframe,text=\"GENRE\",command=GenreResult,width=10,height=1,font=(\"times new roman\",16,\"bold\"),fg=\"navyblue\",bg=\"pink\").grid(row=0,column=2,padx=10,pady=5)\n",
    "        # Inserting Stop Button\n",
    "        stopbtn = Button(buttonframe,text=\"STOPSONG\",command=lambda:stopsong,width=10,height=1,font=(\"times new roman\",16,\"bold\"),fg=\"navyblue\",bg=\"pink\").grid(row=0,column=3,padx=10,pady=5)\n",
    "\n",
    "        # Creating Playlist Frame\n",
    "        songsframe = LabelFrame(self.root,text=\"Song Playlist\",font=(\"times new roman\",15,\"bold\"),bg=\"grey\",fg=\"white\",bd=5,relief=GROOVE)\n",
    "        songsframe.place(x=600,y=0,width=400,height=200)\n",
    "        # Inserting scrollbar\n",
    "        scrol_y = Scrollbar(songsframe,orient=VERTICAL)\n",
    "        # Inserting Playlist listbox\n",
    "        self.playlist = Listbox(songsframe,yscrollcommand=scrol_y.set,selectbackground=\"gold\",selectmode=SINGLE,font=(\"times new roman\",12,\"bold\"),bg=\"silver\",fg=\"navyblue\",bd=5,relief=GROOVE)\n",
    "        # Applying Scrollbar to listbox\n",
    "        scrol_y.pack(side=RIGHT,fill=Y)\n",
    "        scrol_y.config(command=self.playlist.yview)\n",
    "        self.playlist.pack(fill=BOTH)\n",
    "        # Changing Directory for fetching Songs\n",
    "        os.chdir(r\"C:\\Users\\swapj\\Downloads\\Data\\genres_original\\rock\")\n",
    "        #os.chdir(r\"D:\\Shreya\\songs\")\n",
    "        # Fetching Songs\n",
    "        songtracks = os.listdir()\n",
    "        # Inserting Songs into Playlist\n",
    "        for track in songtracks:\n",
    "\n",
    "            self.playlist.insert(END,track)\n",
    "\n",
    "        print(track)\n",
    "        \n",
    "        \n",
    "        self.track.set(self.playlist.get(ACTIVE))\n",
    "        print(self.playlist.get(ACTIVE))\n",
    "        self.status.set(\"-Playing\")\n",
    "            # Loading Selected Song\n",
    "        mixer.music.load(self.playlist.get(ACTIVE))\n",
    "            \n",
    "        #mixer.music.load(\"D:\\Shreya/songs/\" + track)\n",
    "        mixer.music.pause()\n",
    "        #playbtn = Button(buttonframe,text=\"PLAYSONG\",command=play_music,width=10,height=1,font=(\"times new roman\",16,\"bold\"),fg=\"navyblue\",bg=\"pink\").grid(row=0,column=0,padx=10,pady=5)\n",
    "        \n",
    "        "
   ]
  },
  {
   "cell_type": "code",
   "execution_count": 7,
   "metadata": {},
   "outputs": [
    {
     "name": "stdout",
     "output_type": "stream",
     "text": [
      "Got an exception:  File format b''... not understood. in folder:  disco  filename:  my.dat\n",
      "Got an exception:  File format b'\\x80\\x03cn'... not understood. in folder:  disco  filename:  my1.dat\n",
      "Got an exception:  File format b'\\xcb\\x15\\x1e\\x16'... not understood. in folder:  jazz  filename:  jazz.00054.wav\n"
     ]
    }
   ],
   "source": [
    "#import librosa, IPython\n",
    "#import librosa.display\n",
    "#file = '../input/gtzan-dataset-music-genre-classification/Data/genres_original/disco/disco.00031.wav'\n",
    "#file = 'Downloads\\Data\\genres_original\\disco\\disco.00031.wav'\n",
    "#signal, sr = librosa.load(file , sr = 22050) \n",
    "#IPython.display.Audio(signal, rate=sr)\n",
    "\n",
    "#fileS= 'disco.00031.wav'\n",
    "directory123 = 'C:/Users/swapj/Downloads/Data/genres_original'\n",
    "#directory123 = 'D:/Shreya/songs'\n",
    "fS = open(\"my1.dat\", \"wb\")\n",
    "iS = 0\n",
    "folderS=\" \"\n",
    "for folderS in os.listdir(directory123):\n",
    "    #print(folderS)\n",
    "    iS += 1\n",
    "    if iS == 11:\n",
    "        break\n",
    "    for fileS in os.listdir(directory123+\"/\"+folderS):\n",
    "        #print(fileS)\n",
    "        try:\n",
    "            (rate, sig) = wav.read(directory123+\"/\"+folderS+\"/\"+fileS)\n",
    "            mfcc_feat = mfcc(sig, rate, winlen = 0.020, appendEnergy=False)\n",
    "            covariance = np.cov(np.matrix.transpose(mfcc_feat))\n",
    "            mean_matrix = mfcc_feat.mean(0)\n",
    "            featureS = (mean_matrix, covariance, iS)\n",
    "            pickle.dump(featureS, fS)\n",
    "        except Exception as e: \n",
    "            print(\"Got an exception: \", e, 'in folder: ', folderS, ' filename: ', fileS)\n",
    "fS.close()"
   ]
  },
  {
   "cell_type": "code",
   "execution_count": 8,
   "metadata": {},
   "outputs": [
    {
     "name": "stdout",
     "output_type": "stream",
     "text": [
      "0.6501547987616099\n"
     ]
    }
   ],
   "source": [
    "#split dataset into train and test set\n",
    "dataset = []\n",
    "\n",
    "def loadDataset(filename, split, trset, teset):\n",
    "    with open('my1.dat','rb') as f:\n",
    "        while True:\n",
    "            try:\n",
    "                dataset.append(pickle.load(f))\n",
    "            except EOFError:\n",
    "                f.close()\n",
    "                break\n",
    "    for x in range(len(dataset)):\n",
    "        if random.random() < split:\n",
    "            trset.append(dataset[x])\n",
    "        else:\n",
    "            teset.append(dataset[x])\n",
    "\n",
    "trainingSet = []\n",
    "testSet = []\n",
    "loadDataset('my1.dat', 0.66, trainingSet, testSet)\n",
    "\n",
    "\n",
    "\n",
    "# Make the prediction using KNN(K nearest Neighbors)\n",
    "length = len(testSet)\n",
    "predictions = []\n",
    "for x in range(length):\n",
    "    predictions.append(nearestclass(getNeighbors(trainingSet, testSet[x], 20)))\n",
    "\n",
    "accuracy1 = getAccuracy(testSet, predictions)\n",
    "print(accuracy1)"
   ]
  },
  {
   "cell_type": "code",
   "execution_count": 14,
   "metadata": {},
   "outputs": [],
   "source": [
    "from collections import defaultdict\n",
    "results = defaultdict(int)\n",
    "\n",
    "directory12 = 'C:/Users/swapj/Downloads/Data/genres_original/rock'\n",
    "\n",
    "i = 1\n",
    "for folder in os.listdir(directory12):\n",
    "    results[i] = folder\n",
    "    #print(directory)\n",
    "    #print(folder)\n",
    "    #print(results[i])\n",
    "    i += 1"
   ]
  },
  {
   "cell_type": "code",
   "execution_count": 15,
   "metadata": {},
   "outputs": [
    {
     "name": "stdout",
     "output_type": "stream",
     "text": [
      "rock\n"
     ]
    }
   ],
   "source": [
    "pred = nearestclass (getNeighbors (dataset, featureS, 5))\n",
    "#print(results[pred])\n",
    "\n",
    "partitioned_string = results[pred].partition('.')\n",
    "#print(partitioned_string)\n",
    "before_first_period = partitioned_string[0]\n",
    "\n",
    "print(before_first_period)\n",
    "def GenreResult(): \n",
    "    import ctypes  # An included library with Python install.   \n",
    "    ctypes.windll.user32.MessageBoxW(0, (before_first_period), \"Genre\", 1)"
   ]
  },
  {
   "cell_type": "code",
   "execution_count": 16,
   "metadata": {},
   "outputs": [
    {
     "name": "stdout",
     "output_type": "stream",
     "text": [
      "rock.00099.wav\n",
      "rock.00000.wav\n"
     ]
    }
   ],
   "source": [
    "root = Tk() # In order to create an empty window\n",
    "# Passing Root to MusicPlayer Class\n",
    "MusicPlayer(root)\n",
    "\n",
    "\n",
    "root.mainloop()"
   ]
  },
  {
   "cell_type": "code",
   "execution_count": null,
   "metadata": {},
   "outputs": [],
   "source": []
  },
  {
   "cell_type": "code",
   "execution_count": null,
   "metadata": {},
   "outputs": [],
   "source": []
  }
 ],
 "metadata": {
  "kernelspec": {
   "display_name": "Python 3",
   "language": "python",
   "name": "python3"
  },
  "language_info": {
   "codemirror_mode": {
    "name": "ipython",
    "version": 3
   },
   "file_extension": ".py",
   "mimetype": "text/x-python",
   "name": "python",
   "nbconvert_exporter": "python",
   "pygments_lexer": "ipython3",
   "version": "3.7.6"
  }
 },
 "nbformat": 4,
 "nbformat_minor": 4
}
